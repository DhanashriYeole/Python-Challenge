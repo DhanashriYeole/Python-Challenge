{
 "cells": [
  {
   "cell_type": "markdown",
   "metadata": {},
   "source": [
    "11. Function Documentation Printer\n",
    "\n",
    "Write a Python program to print the documents (syntax, description etc.) of Python built-in function(s).\n",
    "\n",
    "Sample function : abs()\n",
    "\n",
    "Expected Result :\n",
    "\n",
    "abs(number) -> number\n",
    "\n",
    "Return the absolute value of the argument."
   ]
  },
  {
   "cell_type": "code",
   "execution_count": 8,
   "id": "5da3a786",
   "metadata": {},
   "outputs": [
    {
     "name": "stdout",
     "output_type": "stream",
     "text": [
      "Return the absolute value of the argument.\n"
     ]
    }
   ],
   "source": [
    "print(abs.__doc__)"
   ]
  },
  {
   "cell_type": "markdown",
   "id": "00b9731f",
   "metadata": {},
   "source": [
    "12. Monthly Calendar Display\n",
    "\n",
    "Write a Python program that prints the calendar for a given month and year.\n",
    "\n",
    "Note : Use 'calendar' module."
   ]
  },
  {
   "cell_type": "code",
   "execution_count": 10,
   "id": "001de9fa",
   "metadata": {},
   "outputs": [
    {
     "name": "stdout",
     "output_type": "stream",
     "text": [
      "     July 2025\n",
      "Mo Tu We Th Fr Sa Su\n",
      "    1  2  3  4  5  6\n",
      " 7  8  9 10 11 12 13\n",
      "14 15 16 17 18 19 20\n",
      "21 22 23 24 25 26 27\n",
      "28 29 30 31\n",
      "\n"
     ]
    }
   ],
   "source": [
    "import calendar\n",
    "y = int(input(\"Enter year: \"))\n",
    "m = int(input(\"Enter month: \"))\n",
    "print(calendar.month(y, m))"
   ]
  },
  {
   "cell_type": "markdown",
   "id": "54781dcf",
   "metadata": {},
   "source": [
    "13. Multi-line Here Document\n",
    "\n",
    "Write a Python program to print the following 'here document'.\n",
    "\n",
    "Sample string :\n",
    "\n",
    "a string that you \"don't\" have to escape\n",
    "\n",
    "This\n",
    "\n",
    "is a ....... multi-line\n",
    "\n",
    "heredoc string --------> example"
   ]
  },
  {
   "cell_type": "code",
   "execution_count": 11,
   "id": "50bed3a3",
   "metadata": {},
   "outputs": [
    {
     "name": "stdout",
     "output_type": "stream",
     "text": [
      "a string that you \"don't\" have to escape\n",
      "\n",
      "This\n",
      "\n",
      "is a ....... multi-line\n",
      "\n",
      "heredoc string --------> example\n"
     ]
    }
   ],
   "source": [
    "print(\"\"\"a string that you \"don't\" have to escape\n",
    "\n",
    "This\n",
    "\n",
    "is a ....... multi-line\n",
    "\n",
    "heredoc string --------> example\"\"\")"
   ]
  },
  {
   "cell_type": "markdown",
   "id": "db59868e",
   "metadata": {},
   "source": [
    "14. Days Between Dates\n",
    "\n",
    "Write a Python program to calculate the number of days between two dates.\n",
    "\n",
    "Sample dates : (2014, 7, 2), (2014, 7, 11)\n",
    "\n",
    "Expected output : 9 days"
   ]
  },
  {
   "cell_type": "code",
   "execution_count": 12,
   "id": "9e24069c",
   "metadata": {},
   "outputs": [
    {
     "name": "stdout",
     "output_type": "stream",
     "text": [
      "89 days\n"
     ]
    }
   ],
   "source": [
    "d1 = input(\"Enter first date (YYYY-MM-DD): \")\n",
    "d2 = input(\"Enter second date (YYYY-MM-DD): \")\n",
    "from datetime import datetime\n",
    "date_format = \"%Y-%m-%d\"\n",
    "d1 = datetime.strptime(d1, date_format)\n",
    "d2 = datetime.strptime(d2, date_format)\n",
    "delta = d2 - d1\n",
    "print(f\"{delta.days} days\")\n"
   ]
  },
  {
   "cell_type": "markdown",
   "id": "2259322b",
   "metadata": {},
   "source": [
    "15. Sphere Volume Calculator\n",
    "\n",
    "Write a Python program to get the volume of a sphere with radius six."
   ]
  },
  {
   "cell_type": "code",
   "execution_count": 13,
   "id": "bc0273aa",
   "metadata": {},
   "outputs": [
    {
     "name": "stdout",
     "output_type": "stream",
     "text": [
      "Volume of sphere with radius 6 is 904.3199999999999\n"
     ]
    }
   ],
   "source": [
    "radius = 6\n",
    "pi = 3.14\n",
    "volume = 4/3 * pi * radius **3\n",
    "print(f\"Volume of sphere with radius {radius} is {volume}\")"
   ]
  },
  {
   "cell_type": "markdown",
   "id": "7feb8b1d",
   "metadata": {},
   "source": [
    "16. Difference from 17\n",
    "\n",
    "Write a Python program to calculate the difference between a given number and 17. If the number is greater than 17, return twice the absolute difference."
   ]
  },
  {
   "cell_type": "code",
   "execution_count": 22,
   "id": "b11c7774",
   "metadata": {},
   "outputs": [
    {
     "name": "stdout",
     "output_type": "stream",
     "text": [
      "Difference from 17 is: -10\n"
     ]
    }
   ],
   "source": [
    "number = int(input(\"Enter a number: \"))\n",
    "if number > 17:\n",
    "    difference = 2 *(number - 17)\n",
    "else:   \n",
    "    difference =(number - 17)\n",
    "print(f\"Difference from 17 is: {difference}\")\n"
   ]
  },
  {
   "cell_type": "markdown",
   "id": "6443d6b9",
   "metadata": {},
   "source": [
    "17. Number Range Tester\n",
    "\n",
    "Write a Python program to test whether a number is within 100 of 1000 or 2000."
   ]
  },
  {
   "cell_type": "code",
   "execution_count": 28,
   "id": "c538a497",
   "metadata": {},
   "outputs": [
    {
     "name": "stdout",
     "output_type": "stream",
     "text": [
      "The number is not between 100 and 1000\n",
      "num is 20202\n"
     ]
    }
   ],
   "source": [
    "num = int(input(\"Enter a number: \"))\n",
    "if num < 1000 and num >100 or num <2000:\n",
    "    print(\"The number is between 100 and 1000\")\n",
    "else:\n",
    "    print(\"The number is not between 100 and 1000\")\n",
    "print(f'num is {num}')\n"
   ]
  },
  {
   "cell_type": "markdown",
   "id": "30117763",
   "metadata": {},
   "source": [
    "18. Triple Sum Calculator\n",
    "\n",
    "Write a Python program to calculate the sum of three given numbers. If the values are equal, return three times their sum."
   ]
  },
  {
   "cell_type": "code",
   "execution_count": 30,
   "id": "3baa1761",
   "metadata": {},
   "outputs": [
    {
     "name": "stdout",
     "output_type": "stream",
     "text": [
      "Numbers are not equal\n",
      "Sum is: 9\n"
     ]
    }
   ],
   "source": [
    "num1 = int(input(\"Enter first number: \"))\n",
    "num2 = int(input(\"Enter second number: \"))\n",
    "num3 = int(input(\"Enter third number: \"))\n",
    "if num1 == num2 == num3:\n",
    "    print(\"All numbers are equal\")\n",
    "    sum = (num1 + num2 + num3) * 3\n",
    "else:\n",
    "    print(\"Numbers are not equal\")\n",
    "    sum = num1 + num2 + num3\n",
    "print(f\"Sum is: {sum}\")\n"
   ]
  },
  {
   "cell_type": "markdown",
   "id": "19ab0710",
   "metadata": {},
   "source": [
    "19. Prefix \"Is\" String Modifier\n",
    "\n",
    "Write a Python program to get a newly-generated string from a given string where \"Is\" has been added to the front. \n",
    "\n",
    "\n",
    "Return the string unchanged if the given string already begins with \"Is\"."
   ]
  },
  {
   "cell_type": "code",
   "execution_count": 4,
   "metadata": {},
   "outputs": [
    {
     "name": "stdout",
     "output_type": "stream",
     "text": [
      "String does not start with 'Is' or 'is'\n",
      "Modified string: Is she a girl or a boy\n"
     ]
    }
   ],
   "source": [
    "string = input(\"Enter a string: \")\n",
    "\n",
    "if string.startswith(\"Is\") or string.startswith(\"is\"):\n",
    "    print(\"String starts with 'Is' or 'is'\")\n",
    "    print(f\"String: {string}\")\n",
    "else:\n",
    "    print(\"String does not start with 'Is' or 'is'\")\n",
    "    string = \"Is \" + string\n",
    "    print(f\"Modified string: {string}\")"
   ]
  },
  {
   "cell_type": "markdown",
   "id": "f29ebb72",
   "metadata": {},
   "source": [
    "20. String Copy Generator\n",
    "\n",
    "Write a Python program that returns a string that is n (non-negative integer) copies of a given string.\n"
   ]
  },
  {
   "cell_type": "code",
   "execution_count": 9,
   "id": "ef32d1ac",
   "metadata": {},
   "outputs": [
    {
     "name": "stdout",
     "output_type": "stream",
     "text": [
      " Hello Hello Hello \n",
      " World World World World World \n"
     ]
    }
   ],
   "source": [
    "def large_string(text,n):\n",
    "    result = \" \"\n",
    "    for i in range(n):\n",
    "        result += text + \" \"\n",
    "    return result \n",
    "print(large_string(\"Hello\", 3))\n",
    "print(large_string(\"World\", 5))"
   ]
  },
  {
   "cell_type": "markdown",
   "id": "e23a6e63",
   "metadata": {},
   "source": []
  },
  {
   "cell_type": "markdown",
   "id": "b8a9314c",
   "metadata": {},
   "source": []
  }
 ],
 "metadata": {
  "kernelspec": {
   "display_name": "Python 3",
   "language": "python",
   "name": "python3"
  },
  "language_info": {
   "codemirror_mode": {
    "name": "ipython",
    "version": 3
   },
   "file_extension": ".py",
   "mimetype": "text/x-python",
   "name": "python",
   "nbconvert_exporter": "python",
   "pygments_lexer": "ipython3",
   "version": "3.13.0"
  }
 },
 "nbformat": 4,
 "nbformat_minor": 5
}
