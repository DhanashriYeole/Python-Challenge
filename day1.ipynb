{
 "cells": [
  {
   "cell_type": "markdown",
   "id": "69c1af2c",
   "metadata": {},
   "source": [
    " Formatted Twinkle Poem\n",
    "\n",
    "Write a Python program to print the following string in a specific format (see the output).\n",
    "Sample String : \"Twinkle, twinkle, little star, How I wonder what you are! Up above the world so high, Like a diamond in the sky. Twinkle, twinkle, little star, How I wonder what you are\"\n",
    "Output :\n",
    "\n",
    "Twinkle, twinkle, little star,\n",
    "\tHow I wonder what you are! \n",
    "\t\tUp above the world so high,   \t\t\n",
    "\t\tLike a diamond in the sky. \n",
    "Twinkle, twinkle, little star, \n",
    "\tHow I wonder what you are"
   ]
  },
  {
   "cell_type": "code",
   "execution_count": 8,
   "id": "e6bdd95d",
   "metadata": {},
   "outputs": [
    {
     "name": "stdout",
     "output_type": "stream",
     "text": [
      " Twinkle, twinkle, little star,\n",
      "\t How I wonder what you are! \n",
      "\t\t Up above the world so high,\n",
      "\t\t Like a diamond in the sky.\n",
      "Twinkle, twinkle, little star, \n",
      "\t How I wonder what you are\n"
     ]
    }
   ],
   "source": [
    "print(\" Twinkle, twinkle, little star,\\n\\t How I wonder what you are! \\n\\t\\t Up above the world so high,\\n\\t\\t Like a diamond in the sky.\\nTwinkle, twinkle, little star, \\n\\t How I wonder what you are\")"
   ]
  },
  {
   "cell_type": "markdown",
   "id": "6f591d25",
   "metadata": {},
   "source": [
    "Python Version Checker\n",
    "\n",
    "Write a Python program to find out what version of Python you are using."
   ]
  },
  {
   "cell_type": "code",
   "execution_count": 9,
   "id": "68dbe892",
   "metadata": {},
   "outputs": [
    {
     "name": "stdout",
     "output_type": "stream",
     "text": [
      "Python Version: 3.13.0 (tags/v3.13.0:60403a5, Oct  7 2024, 09:38:07) [MSC v.1941 64 bit (AMD64)]\n",
      "Version Info: sys.version_info(major=3, minor=13, micro=0, releaselevel='final', serial=0)\n"
     ]
    }
   ],
   "source": [
    "import sys\n",
    "print(\"Python Version:\", sys.version)\n",
    "print(\"Version Info:\",sys.version_info)"
   ]
  },
  {
   "cell_type": "markdown",
   "id": "26bbcd51",
   "metadata": {},
   "source": [
    "Write a Python program to display the current date and time.\n",
    "\n",
    "Sample Output :\n",
    "\n",
    "Current date and time :\n",
    "\n",
    "2014-07-05 14:34:14"
   ]
  },
  {
   "cell_type": "code",
   "execution_count": 17,
   "id": "98a9c902",
   "metadata": {},
   "outputs": [
    {
     "name": "stdout",
     "output_type": "stream",
     "text": [
      "Current Date and Time : 07/01/25 14:43:37\n"
     ]
    }
   ],
   "source": [
    "import datetime\n",
    "now = datetime.datetime.now()\n",
    "print(\"Current Date and Time :\", now.strftime( \"%D %T\"))"
   ]
  },
  {
   "cell_type": "markdown",
   "id": "312acdaa",
   "metadata": {},
   "source": [
    "Circle Area Calculator\n",
    "\n",
    "Write a Python program that calculates the area of a circle based on the radius entered by the user.\n",
    "\n",
    "Sample Output :\n",
    "\n",
    "r = 1.1\n",
    "\n",
    "Area = 3.8013271108436504"
   ]
  },
  {
   "cell_type": "code",
   "execution_count": null,
   "id": "c1329b5f",
   "metadata": {},
   "outputs": [
    {
     "name": "stdout",
     "output_type": "stream",
     "text": [
      "Area of the circle with radius 3.0 is: 28.26\n"
     ]
    }
   ],
   "source": [
    "# import math \n",
    "# def area_of_circle(radius):\n",
    "#     return math.pi *radius *radius\n",
    "# radius = float(input(\"Enter the radius of the circle: \"))\n",
    "# area = area_of_circle(radius)\n",
    "# print(\"Area of the circle is: \",area)\n",
    "\n",
    "#OR\n",
    "\n",
    "r = float(input(\"Enter the radius of the circle: \"))\n",
    "area = r*r * 3.14\n",
    "print(f'Area of the circle with radius {r} is: {area}')\n"
   ]
  },
  {
   "cell_type": "markdown",
   "id": "385adead",
   "metadata": {},
   "source": [
    "Reverse Full Name\n",
    "\n",
    "Write a Python program that accepts the user's first and last name and prints them in reverse order with a space between them."
   ]
  },
  {
   "cell_type": "code",
   "execution_count": 30,
   "id": "2d9dd853",
   "metadata": {},
   "outputs": [
    {
     "name": "stdout",
     "output_type": "stream",
     "text": [
      "Dhanashri Yeole\n"
     ]
    }
   ],
   "source": [
    "def reverse_full_name(full_name):\n",
    "    name = full_name.split()\n",
    "    reversed_name = name [::-1]\n",
    "    reversed_name = ' '.join(reversed_name)\n",
    "    return reversed_name\n",
    "print(reverse_full_name(\"Yeole Dhanashri\"))"
   ]
  },
  {
   "cell_type": "markdown",
   "id": "f0e22bab",
   "metadata": {},
   "source": [
    "Write a Python program that accepts a sequence of comma-separated numbers from the user and generates a list and a tuple of those numbers.\n",
    "\n",
    "Sample data : 3, 5, 7, 23\n",
    "\n",
    "Output :\n",
    "\n",
    "List : ['3', ' 5', ' 7', ' 23']\n",
    "\n",
    "Tuple : ('3', ' 5', ' 7', ' 23')"
   ]
  },
  {
   "cell_type": "code",
   "execution_count": null,
   "id": "6fed603b",
   "metadata": {},
   "outputs": [
    {
     "name": "stdout",
     "output_type": "stream",
     "text": [
      "List: ['2', '3', '4', '5', '6768', '9']\n",
      "Tuple: ('2', '3', '4', '5', '6768', '9')\n"
     ]
    }
   ],
   "source": [
    "# def print_list_and_tuple():\n",
    "#     numbers = input(\"Enter comma-separated numbers: \")\n",
    "#     number_list = numbers.split(',')\n",
    "#     number_tuple = tuple(number_list)\n",
    "    \n",
    "#     print(\"List:\", number_list)\n",
    "#     print(\"Tuple:\", number_tuple)\n",
    "# print_list_and_tuple()\n",
    "\n",
    "#OR\n",
    "\n",
    "nums = input(\"Enter comma-separated numbers: \")\n",
    "num_list = nums.split(',')\n",
    "num_tuple = tuple(num_list)\n",
    "print(\"List:\", num_list)\n",
    "print(\"Tuple:\", num_tuple)"
   ]
  },
  {
   "cell_type": "markdown",
   "id": "49d587e6",
   "metadata": {},
   "source": [
    "File Extension Extractor\n",
    "\n",
    "Write a Python program that accepts a filename from the user and prints the extension of the file.\n",
    "Sample filename : abc.java\n",
    "\n",
    "Output : java"
   ]
  },
  {
   "cell_type": "code",
   "execution_count": 43,
   "id": "d761aa4e",
   "metadata": {},
   "outputs": [
    {
     "name": "stdout",
     "output_type": "stream",
     "text": [
      "The extension of the file is: cpp\n"
     ]
    }
   ],
   "source": [
    "file_name = input(\"Enter the file name: \")\n",
    "file_extension = file_name.split('.')[-1]\n",
    "print(\"The extension of the file is:\", file_extension)"
   ]
  },
  {
   "cell_type": "markdown",
   "id": "e46f9600",
   "metadata": {},
   "source": [
    "First and Last Colors\n",
    "\n",
    "Write a Python program to display the first and last colors from the following list.\n",
    "\n",
    "color_list = [\"Red\",\"Green\",\"White\" ,\"Black\"]"
   ]
  },
  {
   "cell_type": "code",
   "execution_count": 47,
   "id": "5435f169",
   "metadata": {},
   "outputs": [
    {
     "name": "stdout",
     "output_type": "stream",
     "text": [
      "First Color :  Purple\n",
      "Last Color :  Pink\n"
     ]
    }
   ],
   "source": [
    "color_list = [\"Purple\",\"Red\",\"Green\",\"White\" ,\"Black\",\"Pink\"]\n",
    "print(\"First Color : \", color_list[0])\n",
    "print(\"Last Color : \", color_list[-1])"
   ]
  },
  {
   "cell_type": "markdown",
   "id": "0b141963",
   "metadata": {},
   "source": [
    "Exam Schedule Formatter\n",
    "\n",
    "Write a Python program to display the examination schedule. (extract the date from exam_st_date).\n",
    "\n",
    "exam_st_date = (11, 12, 2014)\n",
    "\n",
    "Sample Output : The examination will start from : 11 / 12 / 2014"
   ]
  }
 ],
 "metadata": {
  "kernelspec": {
   "display_name": "Python 3",
   "language": "python",
   "name": "python3"
  },
  "language_info": {
   "codemirror_mode": {
    "name": "ipython",
    "version": 3
   },
   "file_extension": ".py",
   "mimetype": "text/x-python",
   "name": "python",
   "nbconvert_exporter": "python",
   "pygments_lexer": "ipython3",
   "version": "3.13.0"
  }
 },
 "nbformat": 4,
 "nbformat_minor": 5
}
