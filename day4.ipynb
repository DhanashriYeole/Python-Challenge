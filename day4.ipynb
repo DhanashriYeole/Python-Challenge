{
 "cells": [
  {
   "cell_type": "markdown",
   "id": "680b0978",
   "metadata": {},
   "source": [
    "31. GCD Calculator\n",
    "\n",
    "Write a Python program that computes the greatest common divisor (GCD) of two positive integers."
   ]
  },
  {
   "cell_type": "code",
   "execution_count": 7,
   "id": "bda09c03",
   "metadata": {},
   "outputs": [
    {
     "name": "stdout",
     "output_type": "stream",
     "text": [
      "2\n"
     ]
    }
   ],
   "source": [
    "def gcd(x,y):\n",
    "    gcd = 1\n",
    "    if x % y == 0 :\n",
    "      return y\n",
    "    for k in range(int(y/2),0,-1):\n",
    "      if x % k == 0 and y % k == 0:\n",
    "         gcd = k\n",
    "         break\n",
    "    return gcd\n",
    "\n",
    "print(gcd(4,6))"
   ]
  },
  {
   "cell_type": "markdown",
   "id": "e86e7adc",
   "metadata": {},
   "source": [
    "32. LCM Calculator\n",
    "\n",
    "Write a Python program to find the least common multiple (LCM) of two positive integers."
   ]
  },
  {
   "cell_type": "code",
   "execution_count": 5,
   "id": "302291b0",
   "metadata": {},
   "outputs": [
    {
     "name": "stdout",
     "output_type": "stream",
     "text": [
      "12\n",
      "12\n",
      "36\n"
     ]
    }
   ],
   "source": [
    "def lcm(x,y):\n",
    "    if x > y:\n",
    "        z = x\n",
    "    else:\n",
    "        z = y\n",
    "    while True:\n",
    "        if z % x == 0 and z % y == 0:\n",
    "            lcm = z\n",
    "            break\n",
    "        z += 1\n",
    "    return lcm\n",
    "print(lcm(4,6))\n",
    "print(lcm(6,4))\n",
    "print(lcm(4,18))"
   ]
  },
  {
   "cell_type": "markdown",
   "id": "f302152f",
   "metadata": {},
   "source": [
    "33. Triple Sum with Equality Rule\n",
    "\n",
    "Write a Python program to sum three given integers. However, if two values are equal, the sum will be zero."
   ]
  },
  {
   "cell_type": "code",
   "execution_count": 7,
   "id": "c4249b1d",
   "metadata": {},
   "outputs": [
    {
     "name": "stdout",
     "output_type": "stream",
     "text": [
      "Sum of three numbers is:  10\n"
     ]
    }
   ],
   "source": [
    "a = int(input(\"Enter first number: \"))\n",
    "b = int(input(\"Enter second number: \"))\n",
    "c = int(input(\"Enter third number: \"))\n",
    "sum = 0\n",
    "if a == b or b == c or a == c:\n",
    "    sum = 0\n",
    "else:\n",
    "    sum = a + b + c\n",
    "print(\"Sum of three numbers is: \", sum)"
   ]
  },
  {
   "cell_type": "markdown",
   "id": "dc05357f",
   "metadata": {},
   "source": [
    "34. Conditional Sum to 20\n",
    "\n",
    "Write a Python program to sum two given integers. However, if the sum is between 15 and 20 it will return 20"
   ]
  },
  {
   "cell_type": "code",
   "execution_count": 10,
   "id": "1a898b44",
   "metadata": {},
   "outputs": [
    {
     "name": "stdout",
     "output_type": "stream",
     "text": [
      "20\n"
     ]
    }
   ],
   "source": [
    "def sum(a, b):\n",
    "    s = a + b\n",
    "    if s>=20 or s >= 15:\n",
    "        return 20\n",
    "    else:\n",
    "        return s\n",
    "\n",
    "print(sum(6, 10))"
   ]
  },
  {
   "cell_type": "markdown",
   "id": "e095b46a",
   "metadata": {},
   "source": [
    "35. Equality or 5 Rule Checker\n",
    "\n",
    "Write a Python program that returns true if the two given integer values are equal or their sum or difference is 5."
   ]
  },
  {
   "cell_type": "code",
   "execution_count": 14,
   "id": "b715706b",
   "metadata": {},
   "outputs": [
    {
     "name": "stdout",
     "output_type": "stream",
     "text": [
      "True\n",
      "True\n",
      "False\n"
     ]
    }
   ],
   "source": [
    "def rulecheck(a,b):\n",
    "    if a == b or a+b == 5 or a-b ==5:\n",
    "        return True\n",
    "    else:\n",
    "        return False\n",
    "print(rulecheck(5, 5))\n",
    "print(rulecheck(5, 0))\n",
    "print(rulecheck(27,53))"
   ]
  },
  {
   "cell_type": "markdown",
   "id": "216fbec5",
   "metadata": {},
   "source": [
    "36. Add Integers Validator\n",
    "\n",
    "Write a Python program to add two objects if both objects are integers."
   ]
  },
  {
   "cell_type": "code",
   "execution_count": 16,
   "id": "46531521",
   "metadata": {},
   "outputs": [
    {
     "name": "stdout",
     "output_type": "stream",
     "text": [
      "15\n",
      "Please enter valid integers\n"
     ]
    }
   ],
   "source": [
    "def add(a,b):\n",
    "    if not isinstance(a, int) or not isinstance(b, int):\n",
    "        return \"Please enter valid integers\"\n",
    "    return a + b\n",
    "print(add(5, 10))\n",
    "print(add(5.5, 10))"
   ]
  },
  {
   "cell_type": "markdown",
   "id": "84799857",
   "metadata": {},
   "source": [
    "37. Personal Info Formatter\n",
    "\n",
    "Write a Python program that displays your name, age, and address on three different lines."
   ]
  },
  {
   "cell_type": "code",
   "execution_count": 20,
   "id": "77a79a53",
   "metadata": {},
   "outputs": [
    {
     "name": "stdout",
     "output_type": "stream",
     "text": [
      "Name: John\n",
      "Age: 30\n",
      "Address: 123 Main St\n",
      "None\n"
     ]
    }
   ],
   "source": [
    "def formatter(name,age,address):\n",
    "  print(\"Name: {}\\nAge: {}\\nAddress: {}\".format(name, age, address))\n",
    "print(formatter(\"John\", 30, \"123 Main St\"))"
   ]
  },
  {
   "cell_type": "markdown",
   "id": "b0507d82",
   "metadata": {},
   "source": [
    "38. Expression Solver\n",
    "\n",
    "Write a Python program to solve (x + y) * (x + y).\n",
    "Test Data : x = 4, y = 3\n",
    "Expected Output : (4 + 3) ^ 2) = 49"
   ]
  },
  {
   "cell_type": "code",
   "execution_count": 22,
   "id": "22183b87",
   "metadata": {},
   "outputs": [
    {
     "name": "stdout",
     "output_type": "stream",
     "text": [
      "(10 + 20) ^ 2) = 900\n"
     ]
    }
   ],
   "source": [
    "x,y = 10, 20\n",
    "result = x * x + 2 * x * y + y * y\n",
    "print(\"({} + {}) ^ 2) = {}\".format(x, y, result))"
   ]
  },
  {
   "cell_type": "markdown",
   "id": "716c5acd",
   "metadata": {},
   "source": [
    "39. Future Value Calculator\n",
    "\n",
    "Write a Python program to compute the future value of a specified principal amount, rate of interest, and number of years.\n",
    "\n",
    "Test Data : amt = 10000, int = 3.5, years = 7\n",
    "\n",
    "Expected Output : 12722.79"
   ]
  },
  {
   "cell_type": "code",
   "execution_count": 28,
   "id": "58db1da5",
   "metadata": {},
   "outputs": [
    {
     "name": "stdout",
     "output_type": "stream",
     "text": [
      "12722.79\n"
     ]
    }
   ],
   "source": [
    "amt = 10000\n",
    "rate = 3.5\n",
    "time = 7\n",
    "future_value = amt * ((1 + (0.01 * rate)) ** time)\n",
    "print(round(future_value, 2))\n"
   ]
  },
  {
   "cell_type": "markdown",
   "id": "48bdf86f",
   "metadata": {},
   "source": [
    "40. Distance Between Points\n",
    "\n",
    "Write a Python program to calculate the distance between the points (x1, y1) and (x2, y2)"
   ]
  },
  {
   "cell_type": "code",
   "execution_count": 29,
   "id": "417385b5",
   "metadata": {},
   "outputs": [
    {
     "name": "stdout",
     "output_type": "stream",
     "text": [
      "Distance between points (1, 2) and (4, 6) is: 5.00\n"
     ]
    }
   ],
   "source": [
    "import math\n",
    "p1 = (1, 2)\n",
    "p2 = (4, 6)\n",
    "distance = math.sqrt((p2[0] - p1[0]) ** 2 + (p2[1] - p1[1]) ** 2)\n",
    "print(\"Distance between points {} and {} is: {:.2f}\".format(p1, p2, distance))\n"
   ]
  },
  {
   "cell_type": "markdown",
   "id": "33a82706",
   "metadata": {},
   "source": []
  }
 ],
 "metadata": {
  "kernelspec": {
   "display_name": "Python 3",
   "language": "python",
   "name": "python3"
  },
  "language_info": {
   "codemirror_mode": {
    "name": "ipython",
    "version": 3
   },
   "file_extension": ".py",
   "mimetype": "text/x-python",
   "name": "python",
   "nbconvert_exporter": "python",
   "pygments_lexer": "ipython3",
   "version": "3.13.0"
  }
 },
 "nbformat": 4,
 "nbformat_minor": 5
}
