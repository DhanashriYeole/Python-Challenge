{
 "cells": [
  {
   "cell_type": "markdown",
   "id": "42f55ed3",
   "metadata": {},
   "source": [
    "21. Even or Odd Checker\n",
    "\n",
    "Write a Python program that determines whether a given number (accepted from the user) is even or odd, and prints an appropriate message to the user.\n"
   ]
  },
  {
   "cell_type": "code",
   "execution_count": 1,
   "id": "dd4efc57",
   "metadata": {},
   "outputs": [
    {
     "name": "stdout",
     "output_type": "stream",
     "text": [
      "Even\n",
      "Odd\n"
     ]
    }
   ],
   "source": [
    "def even_odd_checker(number):\n",
    "    if number % 2 == 0:\n",
    "        return \"Even\"\n",
    "    else:\n",
    "        return \"Odd\"\n",
    "\n",
    "print(even_odd_checker(10))  # Output: Even\n",
    "print(even_odd_checker(7))   # Output: Odd"
   ]
  },
  {
   "cell_type": "markdown",
   "id": "eeee586e",
   "metadata": {},
   "source": [
    "22. Count 4 in List\n",
    "\n",
    "Write a Python program to count the number 4 in a given list."
   ]
  },
  {
   "cell_type": "code",
   "execution_count": 4,
   "id": "88b9f20a",
   "metadata": {},
   "outputs": [
    {
     "name": "stdout",
     "output_type": "stream",
     "text": [
      "Found 4\n"
     ]
    }
   ],
   "source": [
    "numbers = [1, 2, 3, 4, 5]\n",
    "if 4 in numbers:\n",
    "    print(\"Found 4\")\n",
    "else:\n",
    "    print(\"Not Found 4\")"
   ]
  },
  {
   "cell_type": "markdown",
   "id": "cc5f449c",
   "metadata": {},
   "source": [
    "23. String Prefix Copies\n",
    "\n",
    "Write a Python program to get n (non-negative integer) copies of the first 2 characters of a given string. Return n copies of the whole string if the length is less than 2."
   ]
  },
  {
   "cell_type": "code",
   "execution_count": 13,
   "id": "7b59b927",
   "metadata": {},
   "outputs": [
    {
     "name": "stdout",
     "output_type": "stream",
     "text": [
      "hehehehe\n",
      "ahahahahah\n"
     ]
    }
   ],
   "source": [
    "def string_prefix_copies(string, n):\n",
    "    if len(string) < 2:\n",
    "        return string * n\n",
    "    else:\n",
    "        prefix = string[:2]\n",
    "        return prefix * n \n",
    "print(string_prefix_copies(\"hello\", 4))  # Output: hehehe\n",
    "print(string_prefix_copies(\"ahff\", 5))      # Output: aaaaa"
   ]
  },
  {
   "cell_type": "markdown",
   "id": "56bafa06",
   "metadata": {},
   "source": [
    "24. Vowel Tester\n",
    "\n",
    "Write a Python program to test whether a passed letter is a vowel or not."
   ]
  },
  {
   "cell_type": "code",
   "execution_count": 14,
   "id": "6b781aa0",
   "metadata": {},
   "outputs": [
    {
     "name": "stdout",
     "output_type": "stream",
     "text": [
      "True\n"
     ]
    }
   ],
   "source": [
    "def vowel_tester(letter):\n",
    "    if letter in 'aeiou':\n",
    "        return True\n",
    "    else:\n",
    "        return False\n",
    "print(vowel_tester('a'))  # Output: True"
   ]
  },
  {
   "cell_type": "markdown",
   "id": "29d70bdd",
   "metadata": {},
   "source": [
    "25. Value in Group Tester\n",
    "\n",
    "Write a Python program that checks whether a specified value is contained within a group of values.\n",
    "Test Data :\n",
    "\n",
    "3 -> [1, 5, 8, 3] : True\n",
    "\n",
    "-1 -> [1, 5, 8, 3] : False"
   ]
  },
  {
   "cell_type": "code",
   "execution_count": 15,
   "id": "80555358",
   "metadata": {},
   "outputs": [
    {
     "name": "stdout",
     "output_type": "stream",
     "text": [
      "True\n"
     ]
    }
   ],
   "source": [
    "def group_value_tester(value, group):\n",
    "    return value in group\n",
    "print(group_value_tester(3, [1, 5, 8, 3]))  # Output: True"
   ]
  },
  {
   "cell_type": "markdown",
   "id": "1d4fedcc",
   "metadata": {},
   "source": [
    "26. List Histogram\n",
    "\n",
    "Write a Python program to create a histogram from a given list of integers."
   ]
  },
  {
   "cell_type": "code",
   "execution_count": 21,
   "id": "8d4db0fe",
   "metadata": {},
   "outputs": [
    {
     "name": "stdout",
     "output_type": "stream",
     "text": [
      "***********\n",
      "********\n",
      "******************************\n",
      "*********\n",
      "**************************************************\n"
     ]
    }
   ],
   "source": [
    "def histogram(items):\n",
    "    for item in items:\n",
    "        print('*' * item)\n",
    "histogram([11, 8, 30, 9, 50])  # Output:\n"
   ]
  },
  {
   "cell_type": "markdown",
   "id": "2390439f",
   "metadata": {},
   "source": [
    "27. List to String Concatenator\n",
    "\n",
    "Write a Python program that concatenates all elements in a list into a string and returns it."
   ]
  },
  {
   "cell_type": "code",
   "execution_count": 23,
   "id": "5b3c3b1b",
   "metadata": {},
   "outputs": [
    {
     "name": "stdout",
     "output_type": "stream",
     "text": [
      "Hello World!\n",
      "Python is fun!\n"
     ]
    }
   ],
   "source": [
    "def concatenate_strings(strings):\n",
    "    return ''.join(strings)\n",
    "# Test the function\n",
    "print(concatenate_strings([\"Hello\", \" \", \"World\", \"!\"]))  # Output: Hello World!\n",
    "print(concatenate_strings([\"Python\", \" \", \"is\", \" \", \"fun!\"]))  # Output: Python is fun!\n"
   ]
  },
  {
   "cell_type": "markdown",
   "id": "aad7ff2e",
   "metadata": {},
   "source": [
    "28. Even Numbers Until 237\n",
    "\n",
    "Write a Python program to print all even numbers from a given list of numbers in the same order and stop printing any after 237 in the sequence.\n",
    "\n",
    "Sample numbers list : \n",
    "\n",
    "numbers = [    \n",
    "    386, 462, 47, 418, 907, 344, 236, 375, 823, 566, 597, 978, 328, 615, 953, 345, \n",
    "    399, 162, 758, 219, 918, 237, 412, 566, 826, 248, 866, 950, 626, 949, 687, 217, \n",
    "    815, 67, 104, 58, 512, 24, 892, 894, 767, 553, 81, 379, 843, 831, 445, 742, 717, \n",
    "    958,743, 527\n",
    "    ]"
   ]
  },
  {
   "cell_type": "code",
   "execution_count": 26,
   "id": "0aaf1f04",
   "metadata": {},
   "outputs": [
    {
     "name": "stdout",
     "output_type": "stream",
     "text": [
      "386\n",
      "462\n",
      "418\n",
      "344\n",
      "236\n",
      "566\n",
      "978\n",
      "328\n",
      "162\n",
      "758\n",
      "918\n"
     ]
    }
   ],
   "source": [
    "\n",
    "numbers = [    \n",
    "    386, 462, 47, 418, 907, 344, 236, 375, 823, 566, 597, 978, 328, 615, 953, 345, \n",
    "    399, 162, 758, 219, 918, 237, 412, 566, 826, 248, 866, 950, 626, 949, 687, 217, \n",
    "    815, 67, 104, 58, 512, 24, 892, 894, 767, 553, 81, 379, 843, 831, 445, 742, 717, \n",
    "    958,743, 527\n",
    "    ]\n",
    "#stop after 237\n",
    "for number in numbers:\n",
    "    if number% 2 == 0:\n",
    "        print(number)\n",
    "    if number == 237:\n",
    "        break\n"
   ]
  },
  {
   "cell_type": "markdown",
   "id": "ec54ca41",
   "metadata": {},
   "source": [
    "29. Unique Colors Finder\n",
    "\n",
    "Write a Python program that prints out all colors from color_list_1 that are not present in color_list_2.\n",
    "\n",
    "Test Data :\n",
    "\n",
    "color_list_1 = set([\"White\", \"Black\", \"Red\"])\n",
    "\n",
    "color_list_2 = set([\"Red\", \"Green\"])\n",
    "\n",
    "Expected Output :\n",
    "{'Black', 'White'}"
   ]
  },
  {
   "cell_type": "code",
   "execution_count": 28,
   "id": "bc7bca89",
   "metadata": {},
   "outputs": [
    {
     "name": "stdout",
     "output_type": "stream",
     "text": [
      "{'Black', 'White'}\n"
     ]
    }
   ],
   "source": [
    "color_list_1 = set([\"White\", \"Black\", \"Red\"])\n",
    "\n",
    "color_list_2 = set([\"Red\", \"Green\"])\n",
    "\n",
    "colors = color_list_1.difference(color_list_2)\n",
    "print(colors)"
   ]
  },
  {
   "cell_type": "markdown",
   "id": "8b13f7ed",
   "metadata": {},
   "source": [
    "30. Triangle Area Calculator\n",
    "\n",
    "Write a Python program that will accept the base and height of a triangle and compute its area."
   ]
  },
  {
   "cell_type": "code",
   "execution_count": 29,
   "id": "ff1b9f38",
   "metadata": {},
   "outputs": [
    {
     "name": "stdout",
     "output_type": "stream",
     "text": [
      "Area of the triangle is: 3.0\n"
     ]
    }
   ],
   "source": [
    "base = int(input(\"Enter the base: \"))\n",
    "height = int(input(\"Enter the height: \"))\n",
    "area = 0.5 * base * height\n",
    "print(\"Area of the triangle is:\", area)"
   ]
  }
 ],
 "metadata": {
  "kernelspec": {
   "display_name": "Python 3",
   "language": "python",
   "name": "python3"
  },
  "language_info": {
   "codemirror_mode": {
    "name": "ipython",
    "version": 3
   },
   "file_extension": ".py",
   "mimetype": "text/x-python",
   "name": "python",
   "nbconvert_exporter": "python",
   "pygments_lexer": "ipython3",
   "version": "3.13.0"
  }
 },
 "nbformat": 4,
 "nbformat_minor": 5
}
